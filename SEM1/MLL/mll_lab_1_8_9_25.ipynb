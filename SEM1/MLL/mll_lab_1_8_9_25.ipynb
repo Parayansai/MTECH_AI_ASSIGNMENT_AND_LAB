{
 "cells": [
  {
   "cell_type": "code",
   "execution_count": 60,
   "id": "2827301b-1f99-4b4f-9086-a96f4e75de47",
   "metadata": {},
   "outputs": [],
   "source": [
    "hours, marks = [0,1,2,3,3,5,5,6,7,7,10,5] , [96,85,82,74,95,68,76,58,65,75,50,84]"
   ]
  },
  {
   "cell_type": "code",
   "execution_count": 61,
   "id": "3037abef-1e88-4a0e-9de1-57a8cf2201e3",
   "metadata": {},
   "outputs": [
    {
     "name": "stdout",
     "output_type": "stream",
     "text": [
      "310.3333333333333\n"
     ]
    }
   ],
   "source": [
    "def cov(x,y):\n",
    "    a=0\n",
    "    b=len(x)\n",
    "    for i in range(b):\n",
    "        a=a+(x[i]*y[i])\n",
    "    a=a/len(x)\n",
    "    return a\n",
    "x_y_mean=cov(hours,marks)\n",
    "print(x_y_mean)\n",
    "        \n",
    "        "
   ]
  },
  {
   "cell_type": "code",
   "execution_count": 62,
   "id": "c618eff9-0d5b-4519-9be8-212b3d2c3760",
   "metadata": {},
   "outputs": [
    {
     "name": "stdout",
     "output_type": "stream",
     "text": [
      "4.5\n",
      "75.66666666666667\n"
     ]
    }
   ],
   "source": [
    "def mean(x):\n",
    "    a=0\n",
    "    for i in range(len(x)):\n",
    "        a=a+x[i]\n",
    "    a=a/len(x)\n",
    "    return a\n",
    "x_mean = mean(hours)\n",
    "y_mean = mean(marks)\n",
    "print(x_mean)\n",
    "print(y_mean)"
   ]
  },
  {
   "cell_type": "code",
   "execution_count": 63,
   "id": "077743fb-df5c-43a5-a860-f5e063c569aa",
   "metadata": {},
   "outputs": [
    {
     "name": "stdout",
     "output_type": "stream",
     "text": [
      "27.666666666666668\n"
     ]
    }
   ],
   "source": [
    "def mean_of_squares(x):\n",
    "    a=0\n",
    "    for i in range(len(x)):\n",
    "        a=a+(x[i])**2\n",
    "    a=a/len(x)\n",
    "    return a\n",
    "x_2=mean_of_squares(hours)\n",
    "print(x_2)\n",
    "    "
   ]
  },
  {
   "cell_type": "code",
   "execution_count": 64,
   "id": "3e6661b4-5286-4780-a5f2-f00d8b4f08f3",
   "metadata": {},
   "outputs": [
    {
     "name": "stdout",
     "output_type": "stream",
     "text": [
      "7.416666666666668\n"
     ]
    }
   ],
   "source": [
    "var_x = (x_2) - (x_mean)**2\n",
    "print(var_x)"
   ]
  },
  {
   "cell_type": "code",
   "execution_count": 65,
   "id": "dbac4052-63f9-46fc-98ca-cf62b70bd94a",
   "metadata": {},
   "outputs": [],
   "source": [
    "covariance=x_y_mean-(x_mean*y_mean)"
   ]
  },
  {
   "cell_type": "code",
   "execution_count": 66,
   "id": "38b86c2f-47cc-4435-a352-2e18537c0ff9",
   "metadata": {},
   "outputs": [
    {
     "name": "stdout",
     "output_type": "stream",
     "text": [
      "-4.06741573033708\n"
     ]
    }
   ],
   "source": [
    "m=covariance/var_x\n",
    "print(m)"
   ]
  },
  {
   "cell_type": "code",
   "execution_count": 67,
   "id": "ce435d1b-dbe9-4b3d-adc4-2552716dd934",
   "metadata": {},
   "outputs": [
    {
     "name": "stdin",
     "output_type": "stream",
     "text": [
      "enter a number: 2\n"
     ]
    },
    {
     "name": "stdout",
     "output_type": "stream",
     "text": [
      "93.97003745318354\n"
     ]
    }
   ],
   "source": [
    "c= y_mean-(m*x_mean)\n",
    "print(c)"
   ]
  },
  {
   "cell_type": "code",
   "execution_count": 69,
   "id": "f2f51742-a26f-43e2-a954-dd2968555df4",
   "metadata": {},
   "outputs": [
    {
     "name": "stdin",
     "output_type": "stream",
     "text": [
      "enter a number: 4\n"
     ]
    },
    {
     "name": "stdout",
     "output_type": "stream",
     "text": [
      "77.70037453183522\n"
     ]
    }
   ],
   "source": [
    "x_3=float(input(\"enter a number:\"))\n",
    "y_pred=(m*x_3)+c\n",
    "print(y_pred)"
   ]
  },
  {
   "cell_type": "code",
   "execution_count": null,
   "id": "369821f4-2676-4b91-9755-1702884956f7",
   "metadata": {},
   "outputs": [],
   "source": []
  }
 ],
 "metadata": {
  "kernelspec": {
   "display_name": "Python 3 (ipykernel)",
   "language": "python",
   "name": "python3"
  },
  "language_info": {
   "codemirror_mode": {
    "name": "ipython",
    "version": 3
   },
   "file_extension": ".py",
   "mimetype": "text/x-python",
   "name": "python",
   "nbconvert_exporter": "python",
   "pygments_lexer": "ipython3",
   "version": "3.13.5"
  }
 },
 "nbformat": 4,
 "nbformat_minor": 5
}
