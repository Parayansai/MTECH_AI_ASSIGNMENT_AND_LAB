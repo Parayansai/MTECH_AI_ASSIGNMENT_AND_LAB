{
 "cells": [
  {
   "cell_type": "code",
   "execution_count": 47,
   "id": "45587b16-5a47-45b8-8895-78a3d33128d2",
   "metadata": {},
   "outputs": [],
   "source": [
    "x=[162,171,180,154,152,196,157,163,132,172]\n",
    "y=[78,88,91,62,52,106,63,69,42,81]\n",
    "z=[13,14,13,15,10,9,11,13,12,15]"
   ]
  },
  {
   "cell_type": "code",
   "execution_count": 48,
   "id": "aa975496-148d-4179-9aa8-5a9dca35f7cc",
   "metadata": {},
   "outputs": [
    {
     "name": "stdout",
     "output_type": "stream",
     "text": [
      "163.9\n"
     ]
    }
   ],
   "source": [
    "x_mean=0\n",
    "for i in x:\n",
    "    x_mean=x_mean+i\n",
    "x_mean=x_mean/10\n",
    "print(x_mean)"
   ]
  },
  {
   "cell_type": "code",
   "execution_count": 49,
   "id": "906d5669-650b-4c2a-a932-2a434f05f946",
   "metadata": {},
   "outputs": [
    {
     "name": "stdout",
     "output_type": "stream",
     "text": [
      "73.2\n"
     ]
    }
   ],
   "source": [
    "y_mean=0\n",
    "for i in y:\n",
    "    y_mean=y_mean+i\n",
    "y_mean=y_mean/10\n",
    "print(y_mean)"
   ]
  },
  {
   "cell_type": "code",
   "execution_count": 50,
   "id": "f685284d-dcce-4ce2-8143-3a73eefd1831",
   "metadata": {},
   "outputs": [
    {
     "name": "stdout",
     "output_type": "stream",
     "text": [
      "12.5\n"
     ]
    }
   ],
   "source": [
    "z_mean=0\n",
    "for i in z:\n",
    "    z_mean=z_mean+i\n",
    "z_mean=z_mean/10\n",
    "print(z_mean)"
   ]
  },
  {
   "cell_type": "code",
   "execution_count": 32,
   "id": "ffc0e56c-9009-4333-a3d9-f5619df5a9ec",
   "metadata": {},
   "outputs": [],
   "source": [
    "def sigma(a,b):\n",
    "    sum=0\n",
    "    for i in range(len(x)):\n",
    "        sum=sum+x[i]*y[i]\n",
    "    sum=sum/9\n",
    "    return sum"
   ]
  },
  {
   "cell_type": "code",
   "execution_count": 33,
   "id": "02b1b1d1-8699-452f-b8c7-352fccd655ba",
   "metadata": {},
   "outputs": [
    {
     "name": "stdout",
     "output_type": "stream",
     "text": [
      "1155.48148148148\n"
     ]
    }
   ],
   "source": [
    "cov_x_y=(x_mean*y_mean) - sigma(x,y)\n",
    "print(cov_x_y)"
   ]
  },
  {
   "cell_type": "code",
   "execution_count": 37,
   "id": "4a0b87e8-9ba3-45de-970b-88f48b135a92",
   "metadata": {},
   "outputs": [],
   "source": [
    "def square_sum(c):\n",
    "    sum=0\n",
    "    for i in c:\n",
    "        sum=sum+i**2\n",
    "    sum=sum/9\n",
    "    return sum\n",
    "        "
   ]
  },
  {
   "cell_type": "code",
   "execution_count": 38,
   "id": "dda25b86-0b15-44f0-aaa3-8874ede15c48",
   "metadata": {},
   "outputs": [
    {
     "name": "stdout",
     "output_type": "stream",
     "text": [
      "-3014.790123456787\n"
     ]
    }
   ],
   "source": [
    "var_x= square_sum(x)-(x_mean**2)\n",
    "print(var_x)"
   ]
  },
  {
   "cell_type": "code",
   "execution_count": 39,
   "id": "688ad421-93ef-4060-a1ea-393d1c37e302",
   "metadata": {},
   "outputs": [
    {
     "name": "stdout",
     "output_type": "stream",
     "text": [
      "30149.666666666668\n"
     ]
    }
   ],
   "source": [
    "print(square_sum(x))"
   ]
  },
  {
   "cell_type": "code",
   "execution_count": 40,
   "id": "06e8d1ce-72cd-45bb-b257-5cb9f85900fa",
   "metadata": {},
   "outputs": [
    {
     "name": "stdout",
     "output_type": "stream",
     "text": [
      "-15.234567901234584\n"
     ]
    }
   ],
   "source": [
    "print(square_sum(z)-(z_mean**2))"
   ]
  },
  {
   "cell_type": "code",
   "execution_count": 73,
   "id": "5b658db3-dcf2-4df3-957a-652b1de845e3",
   "metadata": {},
   "outputs": [],
   "source": [
    "def var(c):\n",
    "    sum=0\n",
    "    for i in range(len(c)):\n",
    "        sum=sum+(x_mean-c[i])**2\n",
    "    sum=sum/9\n",
    "    return sum"
   ]
  },
  {
   "cell_type": "code",
   "execution_count": 74,
   "id": "9b0ff0df-84e7-4d31-a173-c2e3571ebe5c",
   "metadata": {},
   "outputs": [],
   "source": [
    "def var_Y(c):\n",
    "    sum=0\n",
    "    for i in range(len(c)):\n",
    "        sum=sum+(y_mean-c[i])**2\n",
    "    sum=sum/9\n",
    "    return sum"
   ]
  },
  {
   "cell_type": "code",
   "execution_count": 75,
   "id": "5b810862-9dfd-4479-808e-da528b20297a",
   "metadata": {},
   "outputs": [],
   "source": [
    "def var_Z(c):\n",
    "    sum=0\n",
    "    for i in range(len(c)):\n",
    "        sum=sum+(z_mean-c[i])**2\n",
    "    sum=sum/9\n",
    "    return sum"
   ]
  },
  {
   "cell_type": "code",
   "execution_count": 76,
   "id": "129e4a9f-3c1f-493c-a611-c2160e6c8ea1",
   "metadata": {},
   "outputs": [
    {
     "data": {
      "text/plain": [
       "301.65555555555557"
      ]
     },
     "execution_count": 76,
     "metadata": {},
     "output_type": "execute_result"
    }
   ],
   "source": [
    "var(x)"
   ]
  },
  {
   "cell_type": "code",
   "execution_count": 77,
   "id": "29f96364-1e97-46b2-88a7-1fbfe0fe1bc9",
   "metadata": {},
   "outputs": [
    {
     "data": {
      "text/plain": [
       "373.9555555555555"
      ]
     },
     "execution_count": 77,
     "metadata": {},
     "output_type": "execute_result"
    }
   ],
   "source": [
    "var_Y(y)"
   ]
  },
  {
   "cell_type": "code",
   "execution_count": 78,
   "id": "e46d28fd-2d34-495e-bb4c-8121e39f753b",
   "metadata": {},
   "outputs": [
    {
     "data": {
      "text/plain": [
       "4.055555555555555"
      ]
     },
     "execution_count": 78,
     "metadata": {},
     "output_type": "execute_result"
    }
   ],
   "source": [
    "var_Z(z)"
   ]
  },
  {
   "cell_type": "code",
   "execution_count": 79,
   "id": "59a67a05-b9aa-48b8-9c15-e15a3f58cb3a",
   "metadata": {},
   "outputs": [],
   "source": [
    "def cov(a,b):\n",
    "    sum=0\n",
    "    for i in range(len(a)):\n",
    "        sum=sum+(a[i]-y_mean)*(b[i]-z_mean)\n",
    "    sum=sum/9\n",
    "    return sum"
   ]
  },
  {
   "cell_type": "code",
   "execution_count": 80,
   "id": "0ba9d004-93bf-4e44-ae8f-420b67cfe50f",
   "metadata": {},
   "outputs": [],
   "source": [
    "def cov_x_y(a,b):\n",
    "    sum=0\n",
    "    for i in range(len(a)):\n",
    "        sum=sum+(a[i]-x_mean)*(b[i]-y_mean)\n",
    "    sum=sum/9\n",
    "    return sum"
   ]
  },
  {
   "cell_type": "code",
   "execution_count": 81,
   "id": "bd6e0e88-4d45-4f91-939a-980ea8f3b710",
   "metadata": {},
   "outputs": [
    {
     "data": {
      "text/plain": [
       "-0.8888888888888881"
      ]
     },
     "execution_count": 81,
     "metadata": {},
     "output_type": "execute_result"
    }
   ],
   "source": [
    "cov(y,z)"
   ]
  },
  {
   "cell_type": "code",
   "execution_count": 82,
   "id": "bc01cd0a-6f8b-4f3e-b28f-0cb3650bf633",
   "metadata": {},
   "outputs": [
    {
     "data": {
      "text/plain": [
       "325.68888888888887"
      ]
     },
     "execution_count": 82,
     "metadata": {},
     "output_type": "execute_result"
    }
   ],
   "source": [
    "cov_x_y(x,y)"
   ]
  },
  {
   "cell_type": "code",
   "execution_count": 83,
   "id": "5d54088e-a70a-4ed7-8e5e-b4594b4a226a",
   "metadata": {},
   "outputs": [],
   "source": [
    "def cov_x_z(a,b):\n",
    "    sum=0\n",
    "    for i in range(len(a)):\n",
    "        sum=sum+(a[i]-x_mean)*(b[i]-z_mean)\n",
    "    sum=sum/9\n",
    "    return sum"
   ]
  },
  {
   "cell_type": "code",
   "execution_count": 84,
   "id": "f1072270-3af8-423b-a759-76ee8e931df2",
   "metadata": {},
   "outputs": [
    {
     "data": {
      "text/plain": [
       "-4.833333333333333"
      ]
     },
     "execution_count": 84,
     "metadata": {},
     "output_type": "execute_result"
    }
   ],
   "source": [
    "cov_x_z(x,z)"
   ]
  },
  {
   "cell_type": "code",
   "execution_count": 85,
   "id": "700e8faa-ef8e-4828-b80b-8b87320571cb",
   "metadata": {},
   "outputs": [
    {
     "name": "stdout",
     "output_type": "stream",
     "text": [
      "[301.65555555555557, 325.68888888888887, -4.833333333333333]\n",
      "[325.68888888888887, 373.9555555555555, -0.8888888888888881]\n",
      "[-4.833333333333333, -0.8888888888888881, 4.055555555555555]\n"
     ]
    }
   ],
   "source": [
    "cov_matrix=[[var(x),cov_x_y(x,y),cov_x_z(x,z)],\n",
    "            [cov_x_y(x,y),var_Y(y),cov(y,z)],\n",
    "            [cov_x_z(x,z),cov(y,z),var_Z(z)]]\n",
    "for i in cov_matrix:\n",
    "    print(i)"
   ]
  },
  {
   "cell_type": "code",
   "execution_count": null,
   "id": "e4906eeb-0d02-4495-b011-0f8ff6967f44",
   "metadata": {},
   "outputs": [],
   "source": []
  }
 ],
 "metadata": {
  "kernelspec": {
   "display_name": "Python 3 (ipykernel)",
   "language": "python",
   "name": "python3"
  },
  "language_info": {
   "codemirror_mode": {
    "name": "ipython",
    "version": 3
   },
   "file_extension": ".py",
   "mimetype": "text/x-python",
   "name": "python",
   "nbconvert_exporter": "python",
   "pygments_lexer": "ipython3",
   "version": "3.13.5"
  }
 },
 "nbformat": 4,
 "nbformat_minor": 5
}
