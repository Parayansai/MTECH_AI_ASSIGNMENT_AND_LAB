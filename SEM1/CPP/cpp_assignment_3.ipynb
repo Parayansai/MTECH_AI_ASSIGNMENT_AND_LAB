{
 "cells": [
  {
   "cell_type": "markdown",
   "id": "6e46cbb9-da0e-482a-8a72-5d4777fe0a56",
   "metadata": {},
   "source": [
    "# Generate all prime numbers less than 100.Print them in a spiral format (like a clockwise square spiral) of minimal size that fits all primes."
   ]
  },
  {
   "cell_type": "code",
   "execution_count": 1,
   "id": "022ab8e6-095b-4276-a987-8a406819bf8a",
   "metadata": {},
   "outputs": [
    {
     "name": "stdout",
     "output_type": "stream",
     "text": [
      "73 79 83 89 97\n",
      "71 17 19 23 29\n",
      "67 13  2  3 31\n",
      "61 11  7  5 37\n",
      "59 53 47 43 41\n"
     ]
    }
   ],
   "source": [
    "def is_prime(n):\n",
    "    if n < 2:\n",
    "        return False\n",
    "    i = 2\n",
    "    while i * i <= n:\n",
    "        if n % i == 0:\n",
    "            return False\n",
    "        i += 1\n",
    "    return True\n",
    "\n",
    "primes = []\n",
    "for x in range(100):\n",
    "    if is_prime(x):\n",
    "        primes.append(x)\n",
    "\n",
    "\n",
    "import math\n",
    "count = len(primes)\n",
    "size = int(math.ceil(math.sqrt(count)))\n",
    "# make size odd so we can center nicely (optional but looks better)\n",
    "if size % 2 == 0:\n",
    "    size += 1\n",
    "\n",
    "grid = [[\"\" for _ in range(size)] for _ in range(size)]\n",
    "\n",
    "r = c = size // 2\n",
    "\n",
    "dirs = [(0,1),(1,0),(0,-1),(-1,0)] \n",
    "step = 1\n",
    "i = 0  # index into primes\n",
    "d_idx = 0\n",
    "\n",
    "\n",
    "grid[r][c] = str(primes[i]); i += 1\n",
    "\n",
    "while i < count:\n",
    "    for two in range(2):  # do two legs with same step length\n",
    "        dr, dc = dirs[d_idx % 4]\n",
    "        for s in range(step):\n",
    "            if i >= count:\n",
    "                break\n",
    "            r += dr\n",
    "            c += dc\n",
    "            if 0 <= r < size and 0 <= c < size:\n",
    "                grid[r][c] = str(primes[i])\n",
    "            i += 1\n",
    "        d_idx += 1\n",
    "        if i >= count:\n",
    "            break\n",
    "    step += 1\n",
    "\n",
    "colw = max(len(x) for row in grid for x in row) if count>0 else 1\n",
    "for row in grid:\n",
    "    line = \" \".join((cell.rjust(colw) if cell!=\"\" else \" \" * colw) for cell in row)\n",
    "    print(line)\n"
   ]
  },
  {
   "cell_type": "markdown",
   "id": "2022f3c0-0fe6-4d2f-9afa-f7c1999d06e6",
   "metadata": {},
   "source": [
    "# You are a data analyst at a streaming platform, managing user interactions, analytics, and daily operations. Use a for loop to create a text-based graph of hourly views. For example, use * to represent every 5 views.\n"
   ]
  },
  {
   "cell_type": "code",
   "execution_count": 2,
   "id": "0d2f7dab-4575-4eb0-87d2-aec0391c0793",
   "metadata": {},
   "outputs": [
    {
     "name": "stdout",
     "output_type": "stream",
     "text": [
      "Hour | Graph (each * = 5 views) | views\n",
      "00:00 | **                   | 12\n",
      "01:00 | *                    | 5\n",
      "02:00 |                      | 3\n",
      "03:00 |                      | 0\n",
      "04:00 | *                    | 8\n",
      "05:00 | ****                 | 20\n",
      "06:00 | *******              | 35\n",
      "07:00 | **********           | 50\n",
      "08:00 | *********            | 45\n",
      "09:00 | ************         | 60\n",
      "10:00 | ***************      | 75\n",
      "11:00 | ****************     | 80\n",
      "12:00 | ******************   | 90\n",
      "13:00 | *************        | 65\n",
      "14:00 | ********             | 40\n",
      "15:00 | ******               | 30\n",
      "16:00 | *****                | 25\n",
      "17:00 | ***                  | 18\n",
      "18:00 | **                   | 12\n",
      "19:00 | *                    | 9\n",
      "20:00 | *                    | 6\n",
      "21:00 |                      | 4\n",
      "22:00 |                      | 2\n",
      "23:00 |                      | 1\n"
     ]
    }
   ],
   "source": [
    "hourly_views = [12, 5, 3, 0, 8, 20, 35, 50, 45, 60, 75, 80, 90, 65, 40, 30, 25, 18, 12, 9, 6, 4, 2, 1]\n",
    "\n",
    "print(\"Hour | Graph (each * = 5 views) | views\")\n",
    "for h in range(len(hourly_views)):\n",
    "    v = hourly_views[h]\n",
    "    stars = v // 5   \n",
    "    s = \"\"\n",
    "    for _ in range(stars):\n",
    "        s += \"*\"\n",
    "    hour_label = str(h).zfill(2) + \":00\"\n",
    "    print(f\"{hour_label} | {s.ljust(20)} | {v}\")\n"
   ]
  },
  {
   "cell_type": "markdown",
   "id": "26a58eda-858e-414e-9218-93a5138a56f9",
   "metadata": {},
   "source": [
    "# You are given hourly views for the day. Calculate total daily revenue. "
   ]
  },
  {
   "cell_type": "code",
   "execution_count": null,
   "id": "4d8bb0ab-9701-4ebe-b6c6-b110de51ca80",
   "metadata": {},
   "outputs": [],
   "source": [
    "# q3_daily_revenue.py\n",
    "# tiered revenue:\n",
    "# first 10 views: $0.50 each\n",
    "# next 20 views: $0.30 each\n",
    "# remaining views: $0.10 each\n",
    "# We'll use the same example hourly_views list (sum across day)\n",
    "\n",
    "hourly_views = [12, 5, 3, 0, 8, 20, 35, 50, 45, 60, 75, 80, 90, 65, 40, 30, 25, 18, 12, 9, 6, 4, 2, 1]\n",
    "\n",
    "total_views = 0\n",
    "for v in hourly_views:\n",
    "    total_views += v\n",
    "\n",
    "remaining = total_views\n",
    "revenue = 0.0\n",
    "\n",
    "# first 10\n",
    "first10 = min(remaining, 10)\n",
    "revenue += first10 * 0.50\n",
    "remaining -= first10\n",
    "\n",
    "# next 20\n",
    "next20 = min(remaining, 20)\n",
    "revenue += next20 * 0.30\n",
    "remaining -= next20\n",
    "\n",
    "# rest\n",
    "if remaining > 0:\n",
    "    revenue += remaining * 0.10\n",
    "    remaining = 0\n",
    "\n",
    "print(\"Total views:\", total_views)\n",
    "print(\"Total revenue: ${:.2f}\".format(revenue))\n"
   ]
  }
 ],
 "metadata": {
  "kernelspec": {
   "display_name": "Python 3 (ipykernel)",
   "language": "python",
   "name": "python3"
  },
  "language_info": {
   "codemirror_mode": {
    "name": "ipython",
    "version": 3
   },
   "file_extension": ".py",
   "mimetype": "text/x-python",
   "name": "python",
   "nbconvert_exporter": "python",
   "pygments_lexer": "ipython3",
   "version": "3.13.5"
  }
 },
 "nbformat": 4,
 "nbformat_minor": 5
}
