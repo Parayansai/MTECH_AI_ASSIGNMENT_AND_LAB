{
 "cells": [
  {
   "cell_type": "code",
   "execution_count": 1,
   "id": "269713d2-cb32-4872-bcc2-ad31e637aca7",
   "metadata": {},
   "outputs": [],
   "source": [
    "#sequential control statements\n",
    "#iterative control statements\n",
    "#selective control statements"
   ]
  },
  {
   "cell_type": "code",
   "execution_count": 2,
   "id": "5bb98477-ab1a-4d5f-b53d-29490f8c4405",
   "metadata": {},
   "outputs": [
    {
     "name": "stdin",
     "output_type": "stream",
     "text": [
      "enter a number: 5\n"
     ]
    },
    {
     "name": "stdout",
     "output_type": "stream",
     "text": [
      "6\n"
     ]
    }
   ],
   "source": [
    "x = int(input(\"enter a number:\"))\n",
    "if x>0:\n",
    "    x=x+1\n",
    "print(x)"
   ]
  },
  {
   "cell_type": "code",
   "execution_count": 4,
   "id": "001710d0-05c5-426e-9c05-5291b16a7149",
   "metadata": {},
   "outputs": [
    {
     "name": "stdin",
     "output_type": "stream",
     "text": [
      "enter age: 19\n"
     ]
    },
    {
     "name": "stdout",
     "output_type": "stream",
     "text": [
      "eligible to vote\n"
     ]
    }
   ],
   "source": [
    "# write a program to determine whther a person is eligible to vote\n",
    "x=int(input(\"enter age:\"))\n",
    "if x>=18:\n",
    "    print(\"eligible to vote\")\n",
    "else:\n",
    "    print(\"you arent eligible\")\n"
   ]
  },
  {
   "cell_type": "code",
   "execution_count": 10,
   "id": "c1712538-b94b-4a9d-8183-2448141b6987",
   "metadata": {},
   "outputs": [
    {
     "name": "stdin",
     "output_type": "stream",
     "text": [
      "press any key:  \n"
     ]
    },
    {
     "name": "stdout",
     "output_type": "stream",
     "text": [
      "has a space\n"
     ]
    }
   ],
   "source": [
    "# write a program to determine the character entered by a person\n",
    "char = input(\"press any key:\")\n",
    "if (char.isalpha()):\n",
    "    print(\"is char\")\n",
    "if char.isdigit():\n",
    "    print(\"is a digit\")\n",
    "if char.isspace():\n",
    "    print(\"only space is given\")"
   ]
  },
  {
   "cell_type": "code",
   "execution_count": 11,
   "id": "6e5ffd03-b7da-4d55-88c5-1a6f23412e23",
   "metadata": {},
   "outputs": [
    {
     "name": "stdin",
     "output_type": "stream",
     "text": [
      "enter age: 14\n"
     ]
    },
    {
     "name": "stdout",
     "output_type": "stream",
     "text": [
      "4 years are left to vote\n"
     ]
    }
   ],
   "source": [
    "#write a program to determine whther a person is eligible to vote or not , if he isnt eligible display the years left to be eligible\n",
    "x=int(input(\"enter age:\"))\n",
    "if x>=18:\n",
    "    print(\"eligible to vote\")\n",
    "else:\n",
    "    print(18-x,\"years are left to vote\")"
   ]
  },
  {
   "cell_type": "code",
   "execution_count": 13,
   "id": "7daaa024-9d30-4fec-85ce-4a8ed12523bc",
   "metadata": {},
   "outputs": [
    {
     "name": "stdin",
     "output_type": "stream",
     "text": [
      "enter a number: 2\n",
      "enter a number: 4\n"
     ]
    },
    {
     "name": "stdout",
     "output_type": "stream",
     "text": [
      "y is greater than x 4\n"
     ]
    }
   ],
   "source": [
    "# write a program to find out the larger of 2 numbers\n",
    "x=int(input(\"enter a number:\"))\n",
    "y=int(input(\"enter a number:\"))\n",
    "if x>y:\n",
    "    print(\"x is greater than y\",x)\n",
    "else:\n",
    "    print(\"y is greater than x\", y)"
   ]
  },
  {
   "cell_type": "code",
   "execution_count": null,
   "id": "00703f0e-534b-4789-8a9a-f732577c6abc",
   "metadata": {},
   "outputs": [],
   "source": [
    "#convert a lowercase char to uppercase and if its in uppercase do the inverse\n",
    "x=input(\"enter a character:\")\n",
    "if x is \"A\"<=x<=\"Z\":\n",
    "    print(x.lower"
   ]
  }
 ],
 "metadata": {
  "kernelspec": {
   "display_name": "Python 3 (ipykernel)",
   "language": "python",
   "name": "python3"
  },
  "language_info": {
   "codemirror_mode": {
    "name": "ipython",
    "version": 3
   },
   "file_extension": ".py",
   "mimetype": "text/x-python",
   "name": "python",
   "nbconvert_exporter": "python",
   "pygments_lexer": "ipython3",
   "version": "3.13.5"
  }
 },
 "nbformat": 4,
 "nbformat_minor": 5
}
