{
 "cells": [
  {
   "cell_type": "code",
   "execution_count": 1,
   "id": "6a25fb69-2239-44af-a82f-004d58333ea8",
   "metadata": {},
   "outputs": [
    {
     "data": {
      "text/plain": [
       "' in pre test the condition is tested before the loop starts, in post test loop the body of the loop is tested unconditionaly \\ncounter controlled, no. of times the lopp is executed is known in advanced while in\\ncondition controlled no. of times the loop is executed is not known in advanced so it is a type of indefinite loop'"
      ]
     },
     "execution_count": 1,
     "metadata": {},
     "output_type": "execute_result"
    }
   ],
   "source": [
    "''' in pre test the condition is tested before the loop starts, in post test loop the body of the loop is tested unconditionaly \n",
    "counter controlled, no. of times the lopp is executed is known in advanced while in\n",
    "condition controlled no. of times the loop is executed is not known in advanced so it is a type of indefinite loop'''"
   ]
  },
  {
   "cell_type": "markdown",
   "id": "fff94652-a920-4f8e-ad6f-51142b58b976",
   "metadata": {},
   "source": [
    "# write a program to generate calender of a month given the start day and no, of days"
   ]
  },
  {
   "cell_type": "code",
   "execution_count": 16,
   "id": "52d0443f-387d-48dc-927c-ed7ec48f1112",
   "metadata": {},
   "outputs": [
    {
     "name": "stdin",
     "output_type": "stream",
     "text": [
      "enter the start day: thursday\n",
      "enter number of days in the month 30\n"
     ]
    }
   ],
   "source": [
    "x=[\"monday\",\"tuesday\",\"wednesday\",\"thursday\",\"friday\",\"saturday\",\"sunday\"]\n",
    "y=input(\"enter the start day:\")\n",
    "z=int(input(\"enter number of days in the month\"))\n",
    "w=[]\n",
    "a=0\n",
    "for i in x:\n",
    "    if i==y:\n",
    "        break\n",
    "    else:\n",
    "        a=a+1\n",
    "while z>0:\n",
    "    if a>6:\n",
    "        a=0\n",
    "    w.append(x[a])\n",
    "    a=a+1\n",
    "    z=z-1\n",
    "    "
   ]
  },
  {
   "cell_type": "code",
   "execution_count": 18,
   "id": "764142bc-8865-4bd7-bf20-88b1d97aece9",
   "metadata": {},
   "outputs": [
    {
     "name": "stdout",
     "output_type": "stream",
     "text": [
      "['thursday', 'friday', 'saturday', 'sunday', 'monday', 'tuesday', 'wednesday', 'thursday', 'friday', 'saturday', 'sunday', 'monday', 'tuesday', 'wednesday', 'thursday', 'friday', 'saturday', 'sunday', 'monday', 'tuesday', 'wednesday', 'thursday', 'friday', 'saturday', 'sunday', 'monday', 'tuesday', 'wednesday', 'thursday', 'friday']\n"
     ]
    }
   ],
   "source": [
    "print(w)"
   ]
  },
  {
   "cell_type": "code",
   "execution_count": null,
   "id": "d6eebd46-0537-4337-b25e-e9806fc93e52",
   "metadata": {},
   "outputs": [],
   "source": []
  },
  {
   "cell_type": "code",
   "execution_count": 35,
   "id": "522582ce-1fdd-4951-9cd2-036e0043a27d",
   "metadata": {},
   "outputs": [
    {
     "name": "stdout",
     "output_type": "stream",
     "text": [
      "*****\n",
      "****\n",
      "***\n",
      "**\n",
      "*\n"
     ]
    }
   ],
   "source": [
    "for i in range(5):\n",
    "    for j in range(6,i+1,-1):\n",
    "        print(\"*\",end=\"\")\n",
    "    print()"
   ]
  },
  {
   "cell_type": "markdown",
   "id": "87fbd380-82b5-4a18-af70-b4e6be185665",
   "metadata": {},
   "source": [
    "# write a program to check if the number exists in a list of numbers and if found break from the loop"
   ]
  },
  {
   "cell_type": "code",
   "execution_count": 44,
   "id": "6d77fc2c-0c3c-4d5e-9fd6-2e5794e3b0bf",
   "metadata": {},
   "outputs": [
    {
     "name": "stdout",
     "output_type": "stream",
     "text": [
      "5 is found\n"
     ]
    }
   ],
   "source": [
    "for i in range(1,11):\n",
    "    if i==5:\n",
    "        print(i,\"is found\")\n",
    "        break\n",
    "        "
   ]
  },
  {
   "cell_type": "markdown",
   "id": "96fa2ee6-1664-4369-b96e-efa711c6a3e1",
   "metadata": {},
   "source": [
    "# write a program to find out difference of two integers"
   ]
  },
  {
   "cell_type": "code",
   "execution_count": 49,
   "id": "efafed4c-07b0-4b1e-b923-ea3015f4c3e4",
   "metadata": {},
   "outputs": [
    {
     "name": "stdout",
     "output_type": "stream",
     "text": [
      "-1\n"
     ]
    }
   ],
   "source": [
    "def dif(a,b):\n",
    "    return a-b\n",
    "x=dif(1,2)\n",
    "print(x)"
   ]
  },
  {
   "cell_type": "markdown",
   "id": "7b1f3cdb-fce9-4d98-a558-28c5daff9826",
   "metadata": {},
   "source": [
    "# write a program to check mismatch between function parameters "
   ]
  },
  {
   "cell_type": "code",
   "execution_count": 52,
   "id": "a820d1ee-59ae-4e76-aeaa-c585259e317a",
   "metadata": {},
   "outputs": [
    {
     "ename": "TypeError",
     "evalue": "unsupported operand type(s) for -: 'int' and 'str'",
     "output_type": "error",
     "traceback": [
      "\u001b[31m---------------------------------------------------------------------------\u001b[39m",
      "\u001b[31mTypeError\u001b[39m                                 Traceback (most recent call last)",
      "\u001b[36mCell\u001b[39m\u001b[36m \u001b[39m\u001b[32mIn[52]\u001b[39m\u001b[32m, line 5\u001b[39m\n\u001b[32m      3\u001b[39m c=\u001b[32m2\u001b[39m\n\u001b[32m      4\u001b[39m d=\u001b[33m\"\u001b[39m\u001b[33ma\u001b[39m\u001b[33m\"\u001b[39m\n\u001b[32m----> \u001b[39m\u001b[32m5\u001b[39m x=\u001b[43mdif\u001b[49m\u001b[43m(\u001b[49m\u001b[43mc\u001b[49m\u001b[43m,\u001b[49m\u001b[43md\u001b[49m\u001b[43m)\u001b[49m\n\u001b[32m      6\u001b[39m \u001b[38;5;28mprint\u001b[39m(x)\n",
      "\u001b[36mCell\u001b[39m\u001b[36m \u001b[39m\u001b[32mIn[52]\u001b[39m\u001b[32m, line 2\u001b[39m, in \u001b[36mdif\u001b[39m\u001b[34m(a, b)\u001b[39m\n\u001b[32m      1\u001b[39m \u001b[38;5;28;01mdef\u001b[39;00m\u001b[38;5;250m \u001b[39m\u001b[34mdif\u001b[39m(a,b):\n\u001b[32m----> \u001b[39m\u001b[32m2\u001b[39m     \u001b[38;5;28;01mreturn\u001b[39;00m \u001b[43ma\u001b[49m\u001b[43m-\u001b[49m\u001b[43mb\u001b[49m\n",
      "\u001b[31mTypeError\u001b[39m: unsupported operand type(s) for -: 'int' and 'str'"
     ]
    }
   ],
   "source": [
    "def dif(a,b):\n",
    "    return a-b\n",
    "c=2\n",
    "d=\"a\"\n",
    "x=dif(c,d)\n",
    "print(x)"
   ]
  },
  {
   "cell_type": "markdown",
   "id": "f34526b4-403d-4316-b123-2b1023b45a30",
   "metadata": {},
   "source": [
    "# write a program to sum the series"
   ]
  },
  {
   "cell_type": "code",
   "execution_count": 55,
   "id": "f85d1fa1-6a1e-4957-b721-20ce24e0dbd6",
   "metadata": {},
   "outputs": [
    {
     "name": "stdin",
     "output_type": "stream",
     "text": [
      "enter: 10\n"
     ]
    },
    {
     "name": "stdout",
     "output_type": "stream",
     "text": [
      "7.980122655122655\n"
     ]
    }
   ],
   "source": [
    "x=0\n",
    "for i in range(1,int(input(\"enter:\"))+1):\n",
    "    x=x+i/(i+1)\n",
    "print(x)\n",
    "    \n",
    "    \n",
    "        "
   ]
  },
  {
   "cell_type": "markdown",
   "id": "d2e48539-8f4a-4c77-9931-f49aee55030b",
   "metadata": {},
   "source": [
    "# sum of n natural numbers"
   ]
  },
  {
   "cell_type": "code",
   "execution_count": 60,
   "id": "4cca3fd5-1f65-44a4-9c2d-76bc98a1fb4d",
   "metadata": {},
   "outputs": [
    {
     "name": "stdin",
     "output_type": "stream",
     "text": [
      "enter: 10\n"
     ]
    },
    {
     "name": "stdout",
     "output_type": "stream",
     "text": [
      "sum of  natural numbers is 55\n"
     ]
    }
   ],
   "source": [
    "y=0\n",
    "for i in range(1,int(input(\"enter:\"))+1):\n",
    "    y=y+i\n",
    "print(\"sum of  natural numbers is\",y)"
   ]
  },
  {
   "cell_type": "markdown",
   "id": "2f49dceb-f6ec-48c3-91d4-9f6a7307b943",
   "metadata": {},
   "source": [
    "# wap print a 3*3 grid"
   ]
  },
  {
   "cell_type": "code",
   "execution_count": 210,
   "id": "815aaec9-65eb-429c-96f6-98d1fc4cc944",
   "metadata": {},
   "outputs": [
    {
     "name": "stdout",
     "output_type": "stream",
     "text": [
      "[[(0, 0), (0, 1), (0, 2)], [(1, 0), (1, 1), (1, 2)], [(2, 0), (2, 1), (2, 2)]]\n"
     ]
    }
   ],
   "source": [
    "grid =[]\n",
    "for i in range(3):\n",
    "    row=[]\n",
    "    for j in range(3):\n",
    "        row.append((i,j))\n",
    "    grid.append(row)\n",
    "print(grid)"
   ]
  },
  {
   "cell_type": "markdown",
   "id": "e582ca5a-1df4-4044-9aaf-aede067cb4f3",
   "metadata": {},
   "source": [
    "# wap to perform a matrix multiplication"
   ]
  },
  {
   "cell_type": "code",
   "execution_count": 214,
   "id": "5f5ffa3e-a7a4-4d22-9732-318e2591eda1",
   "metadata": {},
   "outputs": [],
   "source": [
    "a=[[1,2,3],[4,5,6],[7,8,9]]"
   ]
  },
  {
   "cell_type": "code",
   "execution_count": 215,
   "id": "1d8e378f-17c4-44fe-b22a-df81cf089e4a",
   "metadata": {},
   "outputs": [],
   "source": [
    "b=[[1,2,3],[4,5,6],[7,8,9]]"
   ]
  },
  {
   "cell_type": "code",
   "execution_count": 218,
   "id": "0e44322d-26b3-4268-8041-2d8b2160a0f4",
   "metadata": {},
   "outputs": [
    {
     "name": "stdout",
     "output_type": "stream",
     "text": [
      "[[30, 81, 150], [30, 81, 150], [30, 81, 150]]\n"
     ]
    }
   ],
   "source": [
    "matrix_mul=[]\n",
    "for i in range(3):\n",
    "    row=[]\n",
    "    for j in range(3):\n",
    "        x=0\n",
    "        for k in range(3):\n",
    "            x=x+(a[j][k])*(a[k][j])\n",
    "        row.append(x)\n",
    "    matrix_mul.append(row)\n",
    "print(matrix_mul)"
   ]
  },
  {
   "cell_type": "markdown",
   "id": "2c853040-f4b6-4458-93bf-30a6b79da068",
   "metadata": {},
   "source": [
    "# wap to print the pattern"
   ]
  },
  {
   "cell_type": "code",
   "execution_count": 206,
   "id": "4f0079c2-4f11-4417-9e3c-2973c8180a39",
   "metadata": {},
   "outputs": [
    {
     "name": "stdout",
     "output_type": "stream",
     "text": [
      "*\n",
      "**\n",
      "***\n",
      "****\n",
      "*****\n",
      "****\n",
      "***\n",
      "**\n",
      "*\n",
      "\n"
     ]
    }
   ],
   "source": [
    "\n",
    "for i in range(2):\n",
    "    for j in range(1,6):\n",
    "        if i==0:\n",
    "            print((\"*\"*j))\n",
    "        if i==1 :\n",
    "            print(\"*\"*(5-j))\n",
    "    "
   ]
  },
  {
   "cell_type": "markdown",
   "id": "bc65e77f-0c73-44aa-af9e-540c74400751",
   "metadata": {},
   "source": [
    "# wap to generate the following"
   ]
  },
  {
   "cell_type": "code",
   "execution_count": 126,
   "id": "195cdf09-4363-4eee-bbbb-4e611f1f8a7a",
   "metadata": {},
   "outputs": [
    {
     "name": "stdout",
     "output_type": "stream",
     "text": [
      "red apple\n",
      "red banana\n",
      "red cherry\n",
      "big apple\n",
      "big banana\n",
      "big cherry\n",
      "tasty apple\n",
      "tasty banana\n",
      "tasty cherry\n"
     ]
    }
   ],
   "source": [
    "adjectives = [\"red\",\"big\",\"tasty\"]\n",
    "fruits = [\"apple\",\"banana\",\"cherry\"]\n",
    "for i in adjectives:\n",
    "    for j in fruits:\n",
    "        print(i,end=\" \")\n",
    "        print(j)"
   ]
  },
  {
   "cell_type": "markdown",
   "id": "ba59d973-7170-4ae5-b351-80ad5403d649",
   "metadata": {},
   "source": [
    "# wap to print following pattern"
   ]
  },
  {
   "cell_type": "code",
   "execution_count": 202,
   "id": "7c3c45d8-2dd3-4cac-8b4f-aacd21b1d504",
   "metadata": {},
   "outputs": [
    {
     "name": "stdin",
     "output_type": "stream",
     "text": [
      "enter number upto which odd numbers must be chosen 10\n",
      "no.of diamonds required 1\n"
     ]
    },
    {
     "name": "stdout",
     "output_type": "stream",
     "text": [
      "    *\n",
      "   ***\n",
      "  *****\n",
      " *******\n",
      "*********\n",
      " *******\n",
      "  *****\n",
      "   ***\n",
      "    *\n",
      "    \n"
     ]
    }
   ],
   "source": [
    "n=int(input(\"enter number upto which odd numbers must be chosen\"))\n",
    "for i in range(int(input(\"no.of diamonds required\"))*2):\n",
    "    k=0\n",
    "    for j in range(1,n):\n",
    "        if i%2==0 and j%2 !=0:\n",
    "            print((\"*\"*j).rjust((n//2)+k))\n",
    "            k=k+1\n",
    "        elif i%2 !=0 and j%2 !=0:\n",
    "            k=k+1\n",
    "            print(((\"*\"*((n-(2*k)-1)))).rjust(n-1-k))"
   ]
  },
  {
   "cell_type": "markdown",
   "id": "28e33307-d193-47f9-a0d7-bb20da975e22",
   "metadata": {},
   "source": [
    "# print fibonacci sequence"
   ]
  },
  {
   "cell_type": "code",
   "execution_count": 154,
   "id": "f2827405-c367-4113-9fb3-af3fb8b3a059",
   "metadata": {},
   "outputs": [
    {
     "name": "stdin",
     "output_type": "stream",
     "text": [
      "enter the number of required fibonacci terms: 10\n"
     ]
    },
    {
     "name": "stdout",
     "output_type": "stream",
     "text": [
      "[0, 1, 1, 2, 3, 5, 8, 13, 21, 34]\n"
     ]
    }
   ],
   "source": [
    "y=[]\n",
    "for i in range(int(input(\"enter the number of required fibonacci terms:\"))):\n",
    "    if len(y)<1:\n",
    "        y.append(0)\n",
    "    elif 1<=len(y)<2:\n",
    "        y.append(1)\n",
    "    else:\n",
    "        x=y[i-1]+y[i-2]\n",
    "        y.append(x)\n",
    "print(y)"
   ]
  },
  {
   "cell_type": "code",
   "execution_count": 220,
   "id": "b1067020-cbaf-45d6-8fe3-23169ee0abb2",
   "metadata": {},
   "outputs": [
    {
     "name": "stdin",
     "output_type": "stream",
     "text": [
      "enter the number of required fibonacci terms: 10\n"
     ]
    },
    {
     "name": "stdout",
     "output_type": "stream",
     "text": [
      "0 1 1 2 3 5 8 13 21 34 "
     ]
    }
   ],
   "source": [
    "a,b=0,1\n",
    "for i in range(int(input(\"enter the number of required fibonacci terms:\"))):\n",
    "    print(a,end=\" \")\n",
    "    a,b=b,a+b\n",
    "    "
   ]
  },
  {
   "cell_type": "markdown",
   "id": "8479be17-13a0-44aa-898b-9d0c5ee154c1",
   "metadata": {},
   "source": [
    "# print prime numbers between 50 and 100"
   ]
  },
  {
   "cell_type": "code",
   "execution_count": 157,
   "id": "6e5a87c9-503d-4cdd-9597-63763a0e40f9",
   "metadata": {},
   "outputs": [
    {
     "name": "stdout",
     "output_type": "stream",
     "text": [
      "[53, 59, 61, 67, 71, 73, 79, 83, 89, 97]\n"
     ]
    }
   ],
   "source": [
    "z=[]\n",
    "for i in range(50,101):\n",
    "    x=[]\n",
    "    for j in range(1,i+1):\n",
    "        if i%j==0:\n",
    "            x.append(j)\n",
    "    if len(x)==2:\n",
    "        z.append(i)\n",
    "print(z)\n",
    "        \n",
    "            "
   ]
  },
  {
   "cell_type": "markdown",
   "id": "a7d75c1a-8d29-4d4b-aa67-1e01ceb14026",
   "metadata": {},
   "source": [
    "# wap to print the following sequence "
   ]
  },
  {
   "cell_type": "code",
   "execution_count": 164,
   "id": "42ab0754-f984-4e35-9f2f-2c629effc25d",
   "metadata": {},
   "outputs": [
    {
     "name": "stdout",
     "output_type": "stream",
     "text": [
      "*\n",
      " *\n",
      "  *\n"
     ]
    }
   ],
   "source": [
    "for i in range(1,4):\n",
    "    print((\"*\").rjust(i))"
   ]
  },
  {
   "cell_type": "markdown",
   "id": "b61c08bc-0a30-4a5c-b279-c7bf43c788a0",
   "metadata": {},
   "source": [
    "# wap to print hollow square"
   ]
  },
  {
   "cell_type": "code",
   "execution_count": 180,
   "id": "60d4b71b-6a43-45c0-aef1-24a455b9abc6",
   "metadata": {},
   "outputs": [
    {
     "name": "stdin",
     "output_type": "stream",
     "text": [
      "enter number of stars required for the side of your square: 5\n"
     ]
    },
    {
     "name": "stdout",
     "output_type": "stream",
     "text": [
      "* * * * *\n",
      "*       *\n",
      "*       *\n",
      "*       *\n",
      "* * * * * "
     ]
    }
   ],
   "source": [
    "x=int(input(\"enter number of stars required for the side of your square:\"))\n",
    "for i in range(x):\n",
    "    if i==0:\n",
    "        for j in range(x):\n",
    "            if j<x-1:\n",
    "                print(\"*\",end=\" \")\n",
    "            else:\n",
    "                print(\"*\")\n",
    "    elif 0<i<x-1:\n",
    "        print(\"*\",end=\"\")\n",
    "        print(\" \"*((x*2)-3),end=\"\")\n",
    "        print(\"*\")\n",
    "    else:\n",
    "        for j in range(x):\n",
    "            print(\"*\",end=\" \")"
   ]
  },
  {
   "cell_type": "code",
   "execution_count": null,
   "id": "4c7231c3-8f0e-42fa-93a3-aeb59b2f3613",
   "metadata": {},
   "outputs": [],
   "source": []
  }
 ],
 "metadata": {
  "kernelspec": {
   "display_name": "Python 3 (ipykernel)",
   "language": "python",
   "name": "python3"
  },
  "language_info": {
   "codemirror_mode": {
    "name": "ipython",
    "version": 3
   },
   "file_extension": ".py",
   "mimetype": "text/x-python",
   "name": "python",
   "nbconvert_exporter": "python",
   "pygments_lexer": "ipython3",
   "version": "3.13.5"
  }
 },
 "nbformat": 4,
 "nbformat_minor": 5
}
