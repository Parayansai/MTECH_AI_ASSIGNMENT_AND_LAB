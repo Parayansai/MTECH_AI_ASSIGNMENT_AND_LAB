{
 "cells": [
  {
   "cell_type": "markdown",
   "id": "39d4bc56-a88b-49f5-9a50-9ad3f2d6155f",
   "metadata": {},
   "source": [
    "# Problem no.1"
   ]
  },
  {
   "cell_type": "code",
   "execution_count": 4,
   "id": "3a043df2-cdf7-4c5a-96bb-6c4664d1e16d",
   "metadata": {},
   "outputs": [
    {
     "name": "stdin",
     "output_type": "stream",
     "text": [
      "enter a number: 0\n"
     ]
    },
    {
     "name": "stdout",
     "output_type": "stream",
     "text": [
      "0.0 is neither positive nor negative\n"
     ]
    }
   ],
   "source": [
    "x=float(input(\"enter a number:\"))\n",
    "if x>0:\n",
    "    print(x,\"is positive\")\n",
    "elif x<0:\n",
    "    print(x,\"is negative\")\n",
    "else:\n",
    "    print(x,\"is neither positive nor negative\")"
   ]
  },
  {
   "cell_type": "markdown",
   "id": "0682dc25-50cf-4900-a899-a61ca7bec32a",
   "metadata": {},
   "source": [
    "# Problem no.2"
   ]
  },
  {
   "cell_type": "code",
   "execution_count": 5,
   "id": "23c2dd07-f242-482b-8522-64493be17525",
   "metadata": {},
   "outputs": [
    {
     "name": "stdin",
     "output_type": "stream",
     "text": [
      "enter a number: 3\n"
     ]
    },
    {
     "name": "stdout",
     "output_type": "stream",
     "text": [
      "3 is odd\n"
     ]
    }
   ],
   "source": [
    "x=int(input(\"enter a number:\"))\n",
    "if x%2==0:\n",
    "    print(x,\"is even\")\n",
    "else:\n",
    "    print(x,\"is odd\")\n"
   ]
  },
  {
   "cell_type": "markdown",
   "id": "9084b0ba-9f3c-424b-9fc3-26f79d47ac44",
   "metadata": {},
   "source": [
    "# Problem no.3"
   ]
  },
  {
   "cell_type": "code",
   "execution_count": 6,
   "id": "48c1bd2e-7880-4c7d-9229-4ebc6d0d906c",
   "metadata": {},
   "outputs": [
    {
     "name": "stdin",
     "output_type": "stream",
     "text": [
      "enter a number: 2\n",
      "enter a numer: 2\n"
     ]
    },
    {
     "name": "stdout",
     "output_type": "stream",
     "text": [
      "both are equal\n"
     ]
    }
   ],
   "source": [
    "a=float(input(\"enter a number:\"))\n",
    "b=float(input(\"enter a numer:\"))\n",
    "if a>b:\n",
    "    print(a,\"is larger\")\n",
    "elif a<b:\n",
    "    print(b,\"is larger\")\n",
    "else:\n",
    "    print(\"both are equal\")"
   ]
  },
  {
   "cell_type": "markdown",
   "id": "54a24fb2-0cce-4e7b-8c10-d3f6c3462237",
   "metadata": {},
   "source": [
    "# Problem no.4"
   ]
  },
  {
   "cell_type": "code",
   "execution_count": 9,
   "id": "10d7a507-0e3a-46a7-8a29-ef8a5ea973fc",
   "metadata": {},
   "outputs": [
    {
     "name": "stdin",
     "output_type": "stream",
     "text": [
      "enter a number -4.3\n"
     ]
    },
    {
     "name": "stdout",
     "output_type": "stream",
     "text": [
      "absolute value of -4.3 is 4.3\n"
     ]
    }
   ],
   "source": [
    "x=float(input(\"enter a number\"))\n",
    "if x<0:\n",
    "    y=-x\n",
    "    print(\"absolute value of\",x,\"is\",y)\n",
    "else:\n",
    "    y=x\n",
    "    print(\"absolute value of\",x,\"is\",y)"
   ]
  },
  {
   "cell_type": "markdown",
   "id": "97ad328f-0d0a-4f00-b945-e542af1fd4c5",
   "metadata": {},
   "source": [
    "# Problem no.5"
   ]
  },
  {
   "cell_type": "code",
   "execution_count": 11,
   "id": "5bd97958-55a9-43c8-9e37-ac14950feb30",
   "metadata": {},
   "outputs": [
    {
     "name": "stdin",
     "output_type": "stream",
     "text": [
      "enter age: 17\n"
     ]
    },
    {
     "name": "stdout",
     "output_type": "stream",
     "text": [
      "1 years are left to vote\n"
     ]
    }
   ],
   "source": [
    "x=int(input(\"enter age:\"))\n",
    "if x>=18:\n",
    "    print(\"eligible to vote\")\n",
    "else:\n",
    "    print(18-x,\"years are left to vote\")"
   ]
  },
  {
   "cell_type": "markdown",
   "id": "20637c0e-b5d6-4101-8c1d-e290ce36d05a",
   "metadata": {},
   "source": [
    "# Problem no.6"
   ]
  },
  {
   "cell_type": "code",
   "execution_count": 13,
   "id": "be34ad6b-d212-4f68-97d2-e48e6b2654e4",
   "metadata": {},
   "outputs": [
    {
     "name": "stdin",
     "output_type": "stream",
     "text": [
      "enter a year: 2023\n"
     ]
    },
    {
     "name": "stdout",
     "output_type": "stream",
     "text": [
      "2023 is not a leap year\n"
     ]
    }
   ],
   "source": [
    "for i in range(1900,2101):\n",
    "    if i%100!=0 and i%4==0:\n",
    "        print(i,\"is leap year\")\n",
    "    elif i%400==0:\n",
    "        print(i,\"is leap year\")\n",
    "    else:\n",
    "        print(i,\"is not leap year\")"
   ]
  },
  {
   "cell_type": "markdown",
   "id": "a1f4c6bc-eb93-4b11-8294-437c4060e036",
   "metadata": {},
   "source": [
    "# Problem no.7"
   ]
  },
  {
   "cell_type": "code",
   "execution_count": 15,
   "id": "f4743111-f006-4bcf-a349-b2c9fd7b3b7c",
   "metadata": {},
   "outputs": [
    {
     "name": "stdin",
     "output_type": "stream",
     "text": [
      "enter marks: 56\n"
     ]
    },
    {
     "name": "stdout",
     "output_type": "stream",
     "text": [
      "you have scored 56.0 marks which means you have passed the test\n"
     ]
    }
   ],
   "source": [
    "marks= float(input(\"enter marks:\"))\n",
    "if marks>=40:\n",
    "    print(\"you have scored\",marks,\"marks\",\"which means you have passed the test\")\n",
    "else:\n",
    "    print(\"you have scored\",marks,\"marks\",\"which means you have failed the test\")"
   ]
  },
  {
   "cell_type": "markdown",
   "id": "e938617e-1c84-4f3e-8181-1f25587df6e1",
   "metadata": {},
   "source": [
    "# Problem no.8"
   ]
  },
  {
   "cell_type": "code",
   "execution_count": 16,
   "id": "f4b4cf8a-2a0d-4663-bb94-fc8e972e2138",
   "metadata": {},
   "outputs": [
    {
     "name": "stdin",
     "output_type": "stream",
     "text": [
      "enter a number: 45\n"
     ]
    },
    {
     "name": "stdout",
     "output_type": "stream",
     "text": [
      "45 is multiple of 5\n"
     ]
    }
   ],
   "source": [
    "x= int(input(\"enter a number:\"))\n",
    "if x%5==0:\n",
    "    print(x,\"is multiple of 5\")"
   ]
  },
  {
   "cell_type": "markdown",
   "id": "caebfbf2-d220-4a5c-93d1-db63960dad68",
   "metadata": {},
   "source": [
    "# Problem no.9"
   ]
  },
  {
   "cell_type": "code",
   "execution_count": 24,
   "id": "2318396b-1844-4755-b3a8-887faa3cbfbe",
   "metadata": {},
   "outputs": [
    {
     "name": "stdin",
     "output_type": "stream",
     "text": [
      "enter a character 4\n"
     ]
    },
    {
     "name": "stdout",
     "output_type": "stream",
     "text": [
      "4 is not a character\n"
     ]
    }
   ],
   "source": [
    "x=input(\"enter a character\")\n",
    "if 65<= ord(x) <=90:#The ord() function in Python is a built-in function that returns the Unicode code point of a single character string. \n",
    "    print(x,\"is an uppercase character\")\n",
    "elif 97<=ord(x)<=122:\n",
    "    print(x,\"is a lowercase\")\n",
    "else:\n",
    "    print(x,\"is not a character\")"
   ]
  },
  {
   "cell_type": "markdown",
   "id": "5271a219-4363-46f0-aeb8-4eaf07c6c45d",
   "metadata": {},
   "source": [
    "# Problem no.10"
   ]
  },
  {
   "cell_type": "code",
   "execution_count": 26,
   "id": "d89aa9e5-9b47-461a-985c-8e52f8401a74",
   "metadata": {},
   "outputs": [
    {
     "name": "stdin",
     "output_type": "stream",
     "text": [
      "enter amount: 999\n"
     ]
    },
    {
     "name": "stdout",
     "output_type": "stream",
     "text": [
      "pusrchased amount: 999 rs\n"
     ]
    }
   ],
   "source": [
    "purchased_amount = int(input(\"enter amount:\"))\n",
    "if purchased_amount >= 1000:\n",
    "    discount=0.1\n",
    "    amount_after_discount=purchased_amount-(discount*purchased_amount)\n",
    "    print(\"amount after discount is:\",amount_after_discount,\"rs\")\n",
    "else:\n",
    "    print(\"pusrchased amount:\",purchased_amount,\"rs\")"
   ]
  },
  {
   "cell_type": "code",
   "execution_count": null,
   "id": "d0d47485-37e2-478b-9c8c-d82628c69883",
   "metadata": {},
   "outputs": [],
   "source": []
  }
 ],
 "metadata": {
  "kernelspec": {
   "display_name": "Python 3 (ipykernel)",
   "language": "python",
   "name": "python3"
  },
  "language_info": {
   "codemirror_mode": {
    "name": "ipython",
    "version": 3
   },
   "file_extension": ".py",
   "mimetype": "text/x-python",
   "name": "python",
   "nbconvert_exporter": "python",
   "pygments_lexer": "ipython3",
   "version": "3.13.5"
  }
 },
 "nbformat": 4,
 "nbformat_minor": 5
}
