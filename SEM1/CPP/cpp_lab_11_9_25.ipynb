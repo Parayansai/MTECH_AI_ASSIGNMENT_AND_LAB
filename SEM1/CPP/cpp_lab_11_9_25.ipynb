{
 "cells": [
  {
   "cell_type": "markdown",
   "id": "12822eef-4594-4244-9d62-66660ebb38ef",
   "metadata": {},
   "source": [
    "# program to test whether a number is positive negative or 0"
   ]
  },
  {
   "cell_type": "code",
   "execution_count": 1,
   "id": "e74f6944-68e4-4dd0-b79d-320e378599c2",
   "metadata": {},
   "outputs": [
    {
     "name": "stdin",
     "output_type": "stream",
     "text": [
      "enter a number: 8\n"
     ]
    },
    {
     "name": "stdout",
     "output_type": "stream",
     "text": [
      "8.0 is positive\n"
     ]
    }
   ],
   "source": [
    "x=float(input(\"enter a number:\"))\n",
    "if x>0:\n",
    "    print(x,\"is positive\")\n",
    "elif x<0:\n",
    "    print(x,\"is negative\")\n",
    "else:\n",
    "    print(x,\"is neither positive nor negative\")"
   ]
  },
  {
   "cell_type": "markdown",
   "id": "7df4595f-9da2-4205-94d5-b8502a79d4ed",
   "metadata": {},
   "source": [
    "# program to test whether a character is vowel or not"
   ]
  },
  {
   "cell_type": "code",
   "execution_count": 2,
   "id": "97afb912-7f2d-4493-84f3-9fd681f81504",
   "metadata": {},
   "outputs": [
    {
     "name": "stdin",
     "output_type": "stream",
     "text": [
      "enter a character: a\n"
     ]
    },
    {
     "name": "stdout",
     "output_type": "stream",
     "text": [
      "its a vowel\n"
     ]
    }
   ],
   "source": [
    "x=input(\"enter a character:\")\n",
    "if x==\"a\"or\"A\"or\"e\"or\"i\"or\"E\"or\"I\"or\"u\"or\"o\"or\"O\"or\"U\":\n",
    "    print(\"its a vowel\")\n",
    "else:\n",
    "    print(\"its not a vowel\")"
   ]
  },
  {
   "cell_type": "markdown",
   "id": "ca5cead4-cc89-4d52-aac1-becf62fe7d70",
   "metadata": {},
   "source": [
    "# check whether input by user is a char or number , if char then check whether is a upper or lowercase "
   ]
  },
  {
   "cell_type": "code",
   "execution_count": 7,
   "id": "6cfcee8e-9051-47db-a117-28f2b0a05257",
   "metadata": {},
   "outputs": [
    {
     "name": "stdin",
     "output_type": "stream",
     "text": [
      "enter char or int: a\n"
     ]
    },
    {
     "name": "stdout",
     "output_type": "stream",
     "text": [
      "its a character\n",
      "its lower\n"
     ]
    }
   ],
   "source": [
    "x=input(\"enter char or int:\")\n",
    "if x.isalpha:\n",
    "    print(\"its a character\")\n",
    "    if 65<=ord(x)<=90:\n",
    "        print(\"its upper\")\n",
    "    else:\n",
    "        print(\"its lower\")\n",
    "else:\n",
    "    print(\"its a number\")"
   ]
  },
  {
   "cell_type": "markdown",
   "id": "6a7f6693-f20e-47f0-ada8-2fceb665b34d",
   "metadata": {},
   "source": [
    "# find largest of 3 numbers"
   ]
  },
  {
   "cell_type": "code",
   "execution_count": 8,
   "id": "22fd1874-54b6-4057-87f0-4edc9d5d2b3c",
   "metadata": {},
   "outputs": [
    {
     "name": "stdin",
     "output_type": "stream",
     "text": [
      "enter a number: 1\n",
      "enter a number: 2\n",
      "enter a number: 3\n"
     ]
    },
    {
     "name": "stdout",
     "output_type": "stream",
     "text": [
      "3 is the largest\n"
     ]
    }
   ],
   "source": [
    "x=int(input(\"enter a number:\"))\n",
    "y=int(input(\"enter a number:\"))\n",
    "z=int(input(\"enter a number:\"))\n",
    "if x>=y and x>=z:\n",
    "    print(x,\"is the largest\")\n",
    "elif y>=x and y>=z:\n",
    "    print(y,\"is the largest\")\n",
    "elif z>=x and z>=y:\n",
    "    print(z,\"is the largest\")"
   ]
  },
  {
   "cell_type": "markdown",
   "id": "52226a41-4887-4d47-b3bd-0d9e84a135e5",
   "metadata": {},
   "source": [
    "# sort numbers in ascending and descending"
   ]
  },
  {
   "cell_type": "code",
   "execution_count": 13,
   "id": "51aa1d1c-5c65-4c11-a3a0-a29bfd305e1d",
   "metadata": {},
   "outputs": [
    {
     "name": "stdin",
     "output_type": "stream",
     "text": [
      "enter a number: 83\n",
      "enter a number: 09\n",
      "enter a number: 73\n"
     ]
    },
    {
     "name": "stdout",
     "output_type": "stream",
     "text": [
      "[9, 73, 83] are is ascending\n",
      "83 73 9 are in descending\n"
     ]
    }
   ],
   "source": [
    "x=int(input(\"enter a number:\"))\n",
    "y=int(input(\"enter a number:\"))\n",
    "z=int(input(\"enter a number:\"))\n",
    "numbers=[x,y,z]\n",
    "a=len(numbers)\n",
    "for i in range(a):\n",
    "    large=numbers[0]\n",
    "    b=0\n",
    "    for j in range(a-i):\n",
    "        if large<numbers[j]:\n",
    "            large=numbers[j]\n",
    "            b=j\n",
    "        \n",
    "    c=numbers[a-i-1]\n",
    "    numbers[a-i-1]=numbers[b]\n",
    "    numbers[b]=c\n",
    "print(numbers,\"are is ascending\")\n",
    "print(numbers[2],numbers[1],numbers[0],\"are in descending\")\n",
    "\n",
    "\n"
   ]
  },
  {
   "cell_type": "markdown",
   "id": "6483fb4c-8361-4ec1-94fa-d4f68b98430a",
   "metadata": {},
   "source": [
    "# find absolute value"
   ]
  },
  {
   "cell_type": "code",
   "execution_count": 14,
   "id": "965014fa-76ff-4180-94f2-d08cb5a87b8e",
   "metadata": {},
   "outputs": [
    {
     "name": "stdin",
     "output_type": "stream",
     "text": [
      "enter a number 3\n"
     ]
    },
    {
     "name": "stdout",
     "output_type": "stream",
     "text": [
      "absolute value of 3.0 is 3.0\n"
     ]
    }
   ],
   "source": [
    "x=float(input(\"enter a number\"))\n",
    "if x<0:\n",
    "    y=-x\n",
    "    print(\"absolute value of\",x,\"is\",y)\n",
    "else:\n",
    "    y=x\n",
    "    print(\"absolute value of\",x,\"is\",y)"
   ]
  },
  {
   "cell_type": "markdown",
   "id": "93884c7d-78dc-4d29-a753-b958a384c1c9",
   "metadata": {},
   "source": [
    "# sum of 1 to 10 numbers"
   ]
  },
  {
   "cell_type": "code",
   "execution_count": 15,
   "id": "fbcc48b1-d10e-45db-bc30-ed33e21e1e80",
   "metadata": {},
   "outputs": [
    {
     "name": "stdout",
     "output_type": "stream",
     "text": [
      "sum is 55\n"
     ]
    }
   ],
   "source": [
    "num=1\n",
    "sum=0\n",
    "while(num<=10):\n",
    "    sum=sum+num\n",
    "    num=num+1\n",
    "print(\"sum is\",sum)"
   ]
  },
  {
   "cell_type": "markdown",
   "id": "d7e48e6f-2023-4c32-b93b-7032f54adc5a",
   "metadata": {},
   "source": [
    "# find whether given number is armstrong number or not"
   ]
  },
  {
   "cell_type": "code",
   "execution_count": 21,
   "id": "6dba6aad-5183-46ba-9987-6669241392a0",
   "metadata": {},
   "outputs": [
    {
     "name": "stdin",
     "output_type": "stream",
     "text": [
      "enter a number: 143\n"
     ]
    },
    {
     "name": "stdout",
     "output_type": "stream",
     "text": [
      "its not armstrong number\n"
     ]
    }
   ],
   "source": [
    "x=input(\"enter a number:\")\n",
    "y=0\n",
    "a=len(x)\n",
    "for i in x:\n",
    "    y=y+(int(i))**3\n",
    "if y==int(x):\n",
    "    print(\"its armstrong number\")\n",
    "else:\n",
    "    print(\"its not armstrong number\")\n",
    "    "
   ]
  },
  {
   "cell_type": "markdown",
   "id": "cc43dc2c-3039-40ee-a173-5ac52f6b5559",
   "metadata": {},
   "source": [
    "# write a program to enter a decimal number , calculate and display the binary equivalent of this number"
   ]
  },
  {
   "cell_type": "code",
   "execution_count": 26,
   "id": "710bf29b-65d7-4f92-8e52-36de44d982b0",
   "metadata": {},
   "outputs": [
    {
     "name": "stdin",
     "output_type": "stream",
     "text": [
      "enter a number 6\n"
     ]
    },
    {
     "name": "stdout",
     "output_type": "stream",
     "text": [
      "110\n"
     ]
    }
   ],
   "source": [
    "num=int(input(\"enter a number\"))\n",
    "def binary(num):\n",
    "    y=0\n",
    "    i=0\n",
    "    while num>0:\n",
    "        x=num%2\n",
    "        y=y+(x*(10**i))\n",
    "        i=i+1\n",
    "        num=num//2\n",
    "    return int(y)\n",
    "print(binary(num))"
   ]
  },
  {
   "cell_type": "markdown",
   "id": "ab087da5-85e6-4d24-b185-fee780b8e7dc",
   "metadata": {},
   "source": [
    "# print reverse of a number"
   ]
  },
  {
   "cell_type": "code",
   "execution_count": 28,
   "id": "65543fc5-bed4-4019-8eef-5080ff1bd098",
   "metadata": {},
   "outputs": [
    {
     "name": "stdin",
     "output_type": "stream",
     "text": [
      "enter a number: 123456\n"
     ]
    },
    {
     "name": "stdout",
     "output_type": "stream",
     "text": [
      "654321\n"
     ]
    }
   ],
   "source": [
    "x=input(\"enter a number:\")\n",
    "y=\"\"\n",
    "for i in range(len(x)-1,-1,-1):\n",
    "    y=y+x[i]\n",
    "print(y)\n",
    "    "
   ]
  },
  {
   "cell_type": "markdown",
   "id": "52ecf93b-3b60-472f-a60b-d08a603b9f5f",
   "metadata": {},
   "source": [
    "# write a program using for loop to calculate factorial of a number"
   ]
  },
  {
   "cell_type": "code",
   "execution_count": 31,
   "id": "141a77d3-0721-49e7-b04f-4bc2f1935391",
   "metadata": {},
   "outputs": [
    {
     "name": "stdin",
     "output_type": "stream",
     "text": [
      "enter a number: 8\n"
     ]
    },
    {
     "name": "stdout",
     "output_type": "stream",
     "text": [
      "40320\n"
     ]
    }
   ],
   "source": [
    "x=int(input(\"enter a number:\"))\n",
    "y=1\n",
    "for i in range(x,0,-1):\n",
    "    y=y*i\n",
    "print(y)\n",
    "    \n",
    "    "
   ]
  },
  {
   "cell_type": "markdown",
   "id": "bccfe322-be19-4b4f-af69-15737e6b03f8",
   "metadata": {},
   "source": [
    "# write a program to print the multiplication table of n"
   ]
  },
  {
   "cell_type": "code",
   "execution_count": 34,
   "id": "c52b3f0c-fa6e-4591-aab4-6c6fefe9e8f4",
   "metadata": {},
   "outputs": [
    {
     "name": "stdin",
     "output_type": "stream",
     "text": [
      "enter number: 2\n"
     ]
    },
    {
     "name": "stdout",
     "output_type": "stream",
     "text": [
      "2 * 1 = 2\n",
      "2 * 2 = 4\n",
      "2 * 3 = 6\n",
      "2 * 4 = 8\n",
      "2 * 5 = 10\n",
      "2 * 6 = 12\n",
      "2 * 7 = 14\n",
      "2 * 8 = 16\n",
      "2 * 9 = 18\n",
      "2 * 10 = 20\n"
     ]
    }
   ],
   "source": [
    "x=int(input(\"enter number:\"))\n",
    "for i in range(1,11):\n",
    "    print(x,\"*\",i, \"=\",x*i)"
   ]
  },
  {
   "cell_type": "markdown",
   "id": "a0ad530b-5663-4487-b8a8-229f38835179",
   "metadata": {},
   "source": [
    "# write a program that diaplay all the leap years from 1900 to 2100"
   ]
  },
  {
   "cell_type": "code",
   "execution_count": 35,
   "id": "77b409cd-5e61-4fae-a06e-fda1cb1ffb5a",
   "metadata": {},
   "outputs": [
    {
     "name": "stdout",
     "output_type": "stream",
     "text": [
      "1900 is not leap year\n",
      "1901 is not leap year\n",
      "1902 is not leap year\n",
      "1903 is not leap year\n",
      "1904 is leap year\n",
      "1905 is not leap year\n",
      "1906 is not leap year\n",
      "1907 is not leap year\n",
      "1908 is leap year\n",
      "1909 is not leap year\n",
      "1910 is not leap year\n",
      "1911 is not leap year\n",
      "1912 is leap year\n",
      "1913 is not leap year\n",
      "1914 is not leap year\n",
      "1915 is not leap year\n",
      "1916 is leap year\n",
      "1917 is not leap year\n",
      "1918 is not leap year\n",
      "1919 is not leap year\n",
      "1920 is leap year\n",
      "1921 is not leap year\n",
      "1922 is not leap year\n",
      "1923 is not leap year\n",
      "1924 is leap year\n",
      "1925 is not leap year\n",
      "1926 is not leap year\n",
      "1927 is not leap year\n",
      "1928 is leap year\n",
      "1929 is not leap year\n",
      "1930 is not leap year\n",
      "1931 is not leap year\n",
      "1932 is leap year\n",
      "1933 is not leap year\n",
      "1934 is not leap year\n",
      "1935 is not leap year\n",
      "1936 is leap year\n",
      "1937 is not leap year\n",
      "1938 is not leap year\n",
      "1939 is not leap year\n",
      "1940 is leap year\n",
      "1941 is not leap year\n",
      "1942 is not leap year\n",
      "1943 is not leap year\n",
      "1944 is leap year\n",
      "1945 is not leap year\n",
      "1946 is not leap year\n",
      "1947 is not leap year\n",
      "1948 is leap year\n",
      "1949 is not leap year\n",
      "1950 is not leap year\n",
      "1951 is not leap year\n",
      "1952 is leap year\n",
      "1953 is not leap year\n",
      "1954 is not leap year\n",
      "1955 is not leap year\n",
      "1956 is leap year\n",
      "1957 is not leap year\n",
      "1958 is not leap year\n",
      "1959 is not leap year\n",
      "1960 is leap year\n",
      "1961 is not leap year\n",
      "1962 is not leap year\n",
      "1963 is not leap year\n",
      "1964 is leap year\n",
      "1965 is not leap year\n",
      "1966 is not leap year\n",
      "1967 is not leap year\n",
      "1968 is leap year\n",
      "1969 is not leap year\n",
      "1970 is not leap year\n",
      "1971 is not leap year\n",
      "1972 is leap year\n",
      "1973 is not leap year\n",
      "1974 is not leap year\n",
      "1975 is not leap year\n",
      "1976 is leap year\n",
      "1977 is not leap year\n",
      "1978 is not leap year\n",
      "1979 is not leap year\n",
      "1980 is leap year\n",
      "1981 is not leap year\n",
      "1982 is not leap year\n",
      "1983 is not leap year\n",
      "1984 is leap year\n",
      "1985 is not leap year\n",
      "1986 is not leap year\n",
      "1987 is not leap year\n",
      "1988 is leap year\n",
      "1989 is not leap year\n",
      "1990 is not leap year\n",
      "1991 is not leap year\n",
      "1992 is leap year\n",
      "1993 is not leap year\n",
      "1994 is not leap year\n",
      "1995 is not leap year\n",
      "1996 is leap year\n",
      "1997 is not leap year\n",
      "1998 is not leap year\n",
      "1999 is not leap year\n",
      "2000 is leap year\n",
      "2001 is not leap year\n",
      "2002 is not leap year\n",
      "2003 is not leap year\n",
      "2004 is leap year\n",
      "2005 is not leap year\n",
      "2006 is not leap year\n",
      "2007 is not leap year\n",
      "2008 is leap year\n",
      "2009 is not leap year\n",
      "2010 is not leap year\n",
      "2011 is not leap year\n",
      "2012 is leap year\n",
      "2013 is not leap year\n",
      "2014 is not leap year\n",
      "2015 is not leap year\n",
      "2016 is leap year\n",
      "2017 is not leap year\n",
      "2018 is not leap year\n",
      "2019 is not leap year\n",
      "2020 is leap year\n",
      "2021 is not leap year\n",
      "2022 is not leap year\n",
      "2023 is not leap year\n",
      "2024 is leap year\n",
      "2025 is not leap year\n",
      "2026 is not leap year\n",
      "2027 is not leap year\n",
      "2028 is leap year\n",
      "2029 is not leap year\n",
      "2030 is not leap year\n",
      "2031 is not leap year\n",
      "2032 is leap year\n",
      "2033 is not leap year\n",
      "2034 is not leap year\n",
      "2035 is not leap year\n",
      "2036 is leap year\n",
      "2037 is not leap year\n",
      "2038 is not leap year\n",
      "2039 is not leap year\n",
      "2040 is leap year\n",
      "2041 is not leap year\n",
      "2042 is not leap year\n",
      "2043 is not leap year\n",
      "2044 is leap year\n",
      "2045 is not leap year\n",
      "2046 is not leap year\n",
      "2047 is not leap year\n",
      "2048 is leap year\n",
      "2049 is not leap year\n",
      "2050 is not leap year\n",
      "2051 is not leap year\n",
      "2052 is leap year\n",
      "2053 is not leap year\n",
      "2054 is not leap year\n",
      "2055 is not leap year\n",
      "2056 is leap year\n",
      "2057 is not leap year\n",
      "2058 is not leap year\n",
      "2059 is not leap year\n",
      "2060 is leap year\n",
      "2061 is not leap year\n",
      "2062 is not leap year\n",
      "2063 is not leap year\n",
      "2064 is leap year\n",
      "2065 is not leap year\n",
      "2066 is not leap year\n",
      "2067 is not leap year\n",
      "2068 is leap year\n",
      "2069 is not leap year\n",
      "2070 is not leap year\n",
      "2071 is not leap year\n",
      "2072 is leap year\n",
      "2073 is not leap year\n",
      "2074 is not leap year\n",
      "2075 is not leap year\n",
      "2076 is leap year\n",
      "2077 is not leap year\n",
      "2078 is not leap year\n",
      "2079 is not leap year\n",
      "2080 is leap year\n",
      "2081 is not leap year\n",
      "2082 is not leap year\n",
      "2083 is not leap year\n",
      "2084 is leap year\n",
      "2085 is not leap year\n",
      "2086 is not leap year\n",
      "2087 is not leap year\n",
      "2088 is leap year\n",
      "2089 is not leap year\n",
      "2090 is not leap year\n",
      "2091 is not leap year\n",
      "2092 is leap year\n",
      "2093 is not leap year\n",
      "2094 is not leap year\n",
      "2095 is not leap year\n",
      "2096 is leap year\n",
      "2097 is not leap year\n",
      "2098 is not leap year\n",
      "2099 is not leap year\n",
      "2100 is not leap year\n"
     ]
    }
   ],
   "source": [
    "for i in range(1900,2101):\n",
    "    if i%100!=0 and i%4==0:\n",
    "        print(i,\"is leap year\")\n",
    "    elif i%400==0:\n",
    "        print(i,\"is leap year\")\n",
    "    else:\n",
    "        print(i,\"is not leap year\")"
   ]
  },
  {
   "cell_type": "markdown",
   "id": "1cd6533d-1a9c-4a03-a051-f0196fc713b5",
   "metadata": {},
   "source": [
    "# write a program to sum the series"
   ]
  },
  {
   "cell_type": "code",
   "execution_count": 38,
   "id": "f0b22d9d-93ce-4e43-a01e-ad9ca84c1aaf",
   "metadata": {},
   "outputs": [
    {
     "name": "stdin",
     "output_type": "stream",
     "text": [
      "enter a numer: 10\n"
     ]
    },
    {
     "name": "stdout",
     "output_type": "stream",
     "text": [
      "2.9289682539682538\n"
     ]
    }
   ],
   "source": [
    "x=int(input(\"enter a numer:\"))\n",
    "y=0\n",
    "for i in range(1,x+1):\n",
    "    y=y+1/i\n",
    "print(y)"
   ]
  },
  {
   "cell_type": "markdown",
   "id": "b8f41f42-cc71-41d0-89a3-86a0b8ba605d",
   "metadata": {},
   "source": [
    "# write a program to calculate sum of cubes"
   ]
  },
  {
   "cell_type": "code",
   "execution_count": 39,
   "id": "525655bd-026b-45c4-963b-4f5b71981ef3",
   "metadata": {},
   "outputs": [
    {
     "name": "stdin",
     "output_type": "stream",
     "text": [
      "enter a numer: 5\n"
     ]
    },
    {
     "name": "stdout",
     "output_type": "stream",
     "text": [
      "225\n"
     ]
    }
   ],
   "source": [
    "x=int(input(\"enter a numer:\"))\n",
    "y=0\n",
    "for i in range(1,x+1):\n",
    "    y=y+i**3\n",
    "print(y)"
   ]
  },
  {
   "cell_type": "code",
   "execution_count": null,
   "id": "bf248373-1c31-4de4-becf-57433a17def4",
   "metadata": {},
   "outputs": [],
   "source": []
  }
 ],
 "metadata": {
  "kernelspec": {
   "display_name": "Python 3 (ipykernel)",
   "language": "python",
   "name": "python3"
  },
  "language_info": {
   "codemirror_mode": {
    "name": "ipython",
    "version": 3
   },
   "file_extension": ".py",
   "mimetype": "text/x-python",
   "name": "python",
   "nbconvert_exporter": "python",
   "pygments_lexer": "ipython3",
   "version": "3.13.5"
  }
 },
 "nbformat": 4,
 "nbformat_minor": 5
}
