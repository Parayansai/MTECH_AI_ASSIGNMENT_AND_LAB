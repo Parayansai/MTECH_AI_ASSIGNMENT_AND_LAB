{
 "cells": [
  {
   "cell_type": "markdown",
   "id": "01b5b792-8fcd-4cfb-8515-c0e0d969f565",
   "metadata": {},
   "source": [
    "# Problem no.1"
   ]
  },
  {
   "cell_type": "code",
   "execution_count": 29,
   "id": "85b7e609-4a52-4879-bf77-e9e6356d4c1c",
   "metadata": {},
   "outputs": [],
   "source": [
    "sample_list = [(2, 5), (1, 2), (4, 4), (2, 3), (2, 1)]\n",
    "a=[]"
   ]
  },
  {
   "cell_type": "code",
   "execution_count": 30,
   "id": "ef3d6fea-9d4d-47af-82ac-ca9572184f49",
   "metadata": {},
   "outputs": [
    {
     "name": "stdout",
     "output_type": "stream",
     "text": [
      "[2, 2, 3, 4, 5]\n"
     ]
    }
   ],
   "source": [
    "for x in sample_list:\n",
    "    a.append(max(x))\n",
    "a.sort()\n",
    "print(a)"
   ]
  },
  {
   "cell_type": "markdown",
   "id": "60ff3767-7cb0-48a1-8803-1177c95fe87d",
   "metadata": {},
   "source": [
    "# Problem no.2"
   ]
  },
  {
   "cell_type": "code",
   "execution_count": 298,
   "id": "bf053ece-cc6f-413c-9213-f21c94fa7dca",
   "metadata": {},
   "outputs": [
    {
     "name": "stdout",
     "output_type": "stream",
     "text": [
      "ai p$r$y$n\n"
     ]
    }
   ],
   "source": [
    "string=\"ai parayan\"\n",
    "x=string[0]\n",
    "y=\"\"\n",
    "z=0\n",
    "for i in string:\n",
    "    if i==x and z!=0:\n",
    "        i=\"$\"\n",
    "        y=y+i\n",
    "        z=z+1\n",
    "    else:\n",
    "        y=y+i\n",
    "        z=z+1\n",
    "print(y)"
   ]
  },
  {
   "cell_type": "markdown",
   "id": "ecc24e3b-f5e8-4e6b-be3a-18d851890b3f",
   "metadata": {},
   "source": [
    "# Problem no.3"
   ]
  },
  {
   "cell_type": "code",
   "execution_count": 205,
   "id": "b3cd49fe-e4dc-4a48-bf75-f9dab8b663c3",
   "metadata": {},
   "outputs": [
    {
     "name": "stdout",
     "output_type": "stream",
     "text": [
      "['The', 'lyrics', 'is', 'not', 'bad', 'but', 'poor!', 'i', 'hope', 'to', 'you', 'keep', 'writing']\n"
     ]
    }
   ],
   "source": [
    "sample_string=\"The lyrics is not bad but poor! i hope to you keep writing\"\n",
    "words = sample_string.split(\" \")\n",
    "a=[]\n",
    "print(words)"
   ]
  },
  {
   "cell_type": "code",
   "execution_count": 206,
   "id": "28db496f-8273-4270-9bfe-91cf62dd49a2",
   "metadata": {},
   "outputs": [],
   "source": [
    "for i in range(len(words)):\n",
    "    if words[i] == \"not\":\n",
    "        a.append(i)\n",
    "        break\n",
    "for i in range(len(words)):\n",
    "    if words[i] == \"poor!\":\n",
    "        a.append(i)\n",
    "        break "
   ]
  },
  {
   "cell_type": "code",
   "execution_count": 207,
   "id": "94409bd4-2669-4d81-80da-a9b8bedcadbd",
   "metadata": {},
   "outputs": [
    {
     "name": "stdout",
     "output_type": "stream",
     "text": [
      "not is in position 3 of the sample string\n",
      "poor! is in position 6 of the sample string\n"
     ]
    }
   ],
   "source": [
    "print(words[a[0]],\"is in position\",a[0],\"of the sample string\")\n",
    "print(words[a[1]],\"is in position\",a[1],\"of the sample string\")"
   ]
  },
  {
   "cell_type": "code",
   "execution_count": 208,
   "id": "359c7a69-5394-4851-8520-93b8acb636b8",
   "metadata": {},
   "outputs": [
    {
     "name": "stdout",
     "output_type": "stream",
     "text": [
      "['The', 'lyrics', 'is', 'good', 'i', 'hope', 'to', 'you', 'keep', 'writing']\n"
     ]
    }
   ],
   "source": [
    "y=[]\n",
    "if words[a[0]+1] == \"bad\":\n",
    "    for j in range(a[1],a[0],-1):\n",
    "        y.append(j)\n",
    "    for x in y:\n",
    "        words[a[0]]=\"good\"\n",
    "        words.pop(x)\n",
    "\n",
    "print(words)"
   ]
  },
  {
   "cell_type": "markdown",
   "id": "4b410f4d-3036-403f-a061-22726dd054e1",
   "metadata": {},
   "source": [
    "# Problem no.4"
   ]
  },
  {
   "cell_type": "code",
   "execution_count": 290,
   "id": "38768b6f-3b31-4f31-9191-71c6feef2ebf",
   "metadata": {},
   "outputs": [
    {
     "name": "stdout",
     "output_type": "stream",
     "text": [
      "{'f': 1, 'a': 4, 'd': 22, 'c': 52, 'b': 89, 'e': 90}\n"
     ]
    }
   ],
   "source": [
    "x={\"a\":4,\"b\":89,\"c\":52,\"d\":22,\"e\":90,\"f\":1}\n",
    "\n",
    "y=list(x.values())\n",
    "z=list(x.keys())\n",
    "a=len(y)\n",
    "for i in range(a):\n",
    "    large=y[0]\n",
    "    b=0\n",
    "    for j in range(a-i):\n",
    "        if large<y[j]:\n",
    "            large=y[j]\n",
    "            b=j\n",
    "        \n",
    "    c=y[a-i-1]\n",
    "    y[a-i-1]=y[b]\n",
    "    y[b]=c\n",
    "    d=z[a-i-1]\n",
    "    z[a-i-1]=z[b]\n",
    "    z[b]=d\n",
    "l={}\n",
    "for idx in range(a):\n",
    "    l[z[idx]]=y[idx]\n",
    "print(l)\n",
    "\n",
    "    \n",
    "            \n",
    "            \n",
    "        \n",
    "    \n",
    "    "
   ]
  },
  {
   "cell_type": "markdown",
   "id": "1230d538-7480-42b0-a59d-0ca3b4989039",
   "metadata": {},
   "source": [
    "# Problem no.5"
   ]
  },
  {
   "cell_type": "code",
   "execution_count": 292,
   "id": "0e399d90-8d17-4f98-8ee4-aea4188f5f8f",
   "metadata": {},
   "outputs": [
    {
     "name": "stdin",
     "output_type": "stream",
     "text": [
      "enter no. of keys you want to insert: 5\n",
      "enter a key: w\n",
      "enter a value: 1\n",
      "enter a key: e\n"
     ]
    },
    {
     "name": "stdout",
     "output_type": "stream",
     "text": [
      "key already exists please enter a new value\n"
     ]
    },
    {
     "name": "stdin",
     "output_type": "stream",
     "text": [
      "enter a key: r\n",
      "enter a value: 2\n",
      "enter a key: t\n",
      "enter a value: 3\n",
      "enter a key: y\n",
      "enter a value: 4\n",
      "enter a key: u\n",
      "enter a value: 5\n"
     ]
    },
    {
     "name": "stdout",
     "output_type": "stream",
     "text": [
      "{'a': 4, 'b': 89, 'c': 52, 'd': 22, 'e': 90, 'f': 1, 'w': '1', 'r': '2', 't': '3', 'y': '4', 'u': '5'}\n"
     ]
    }
   ],
   "source": [
    "x={\"a\":4,\"b\":89,\"c\":52,\"d\":22,\"e\":90,\"f\":1}\n",
    "y=int(input(\"enter no. of keys you want to insert:\"))\n",
    "for i in range(y):\n",
    "    z=input(\"enter a key:\")\n",
    "    while z in x.keys():\n",
    "        print(\"key already exists please enter a new value\")\n",
    "        z=input(\"enter a key:\")\n",
    "    a=input(\"enter a value:\")\n",
    "    x[z]=a\n",
    "print(x)\n",
    "        "
   ]
  }
 ],
 "metadata": {
  "kernelspec": {
   "display_name": "Python 3 (ipykernel)",
   "language": "python",
   "name": "python3"
  },
  "language_info": {
   "codemirror_mode": {
    "name": "ipython",
    "version": 3
   },
   "file_extension": ".py",
   "mimetype": "text/x-python",
   "name": "python",
   "nbconvert_exporter": "python",
   "pygments_lexer": "ipython3",
   "version": "3.13.5"
  }
 },
 "nbformat": 4,
 "nbformat_minor": 5
}
